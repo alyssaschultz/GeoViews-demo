{
 "cells": [
  {
   "cell_type": "code",
   "execution_count": null,
   "metadata": {},
   "outputs": [],
   "source": [
    "import pandas as pd\n",
    "import matplotlib.pyplot as plt\n",
    "import matplotlib.gridspec as gridspec\n",
    "import numpy as np\n",
    "\n",
    "\n",
    "from scipy import stats"
   ]
  },
  {
   "cell_type": "code",
   "execution_count": null,
   "metadata": {},
   "outputs": [],
   "source": [
    "df = pd.read_csv('../alyssaschultz/age.csv')\n",
    "df.head()"
   ]
  },
  {
   "cell_type": "code",
   "execution_count": null,
   "metadata": {
    "scrolled": false
   },
   "outputs": [],
   "source": [
    "fig = plt.figure(figsize=(10,9))\n",
    "\n",
    "ax = fig.add_subplot(211)\n",
    "y = df['d15N vs Air']\n",
    "x = df['Sample Identifier 1']\n",
    "ax.plot(x,y, marker='s', markersize=4, lw=1, color='mediumblue')\n",
    "plt.xlim(1845,2020)\n",
    "ax.set_ylabel('${\\delta}^{15}$N', fontsize=15)\n",
    "ax.set_title('Age Model for Bulk Nitrogen and Carbon Values (‰)', fontsize=17)\n",
    "yerr1 = 0.12\n",
    "(_, caps, _) = plt.errorbar(x, y,\n",
    "            yerr=yerr1,\n",
    "            fmt='none',\n",
    "            ecolor='mediumblue',\n",
    "            lw=0.5, capsize=2)\n",
    "for cap in caps:\n",
    "    cap.set_markeredgewidth(1)\n",
    "\n",
    "\n",
    "ax1 = fig.add_subplot(212, sharex=ax)\n",
    "y1 = df['d13C vs VPDB']\n",
    "x1 = df['Sample Identifier 1']\n",
    "ax1.plot(x1,y1, marker='s', markersize=4, lw=1, color='r')\n",
    "plt.xlim(1845,2020)\n",
    "ax1.set_ylabel('${\\delta}^{13}$C', fontsize=15)\n",
    "ax1.set_xlabel('Estimated Calendar Year', fontsize=15)\n",
    "yerr1 = 0.047\n",
    "(_, caps, _) = plt.errorbar(x1, y1,\n",
    "            yerr=yerr1,\n",
    "            fmt='none',\n",
    "            ecolor='r',\n",
    "            lw=0.5, capsize=2)\n",
    "for cap in caps:\n",
    "    cap.set_markeredgewidth(1)\n",
    "ax1.set_ylabel('${\\delta}^{13}$C', fontsize=15)\n",
    "\n",
    "\n",
    "plt.setp(ax.get_xticklabels(), visible=False)\n",
    "fig.tight_layout()\n",
    "\n",
    "plt.savefig('fig.png')\n",
    "\n",
    "\n",
    "# R squared\n",
    "slope, intercept, r_value, p_value, std_err = stats.linregress(x,y)\n",
    "slope, intercept, r_value1, p_value, std_err = stats.linregress(x1,y1)\n",
    "\n",
    "print(\"r-squared (N):\", r_value**2)\n",
    "print(\"r-squared (C):\", r_value1**2)"
   ]
  },
  {
   "cell_type": "code",
   "execution_count": null,
   "metadata": {},
   "outputs": [],
   "source": []
  },
  {
   "cell_type": "code",
   "execution_count": null,
   "metadata": {},
   "outputs": [],
   "source": [
    "fig = plt.figure(figsize=(10,9))\n",
    "\n",
    "ax = fig.add_subplot(311)\n",
    "y = df['d15N vs Air']\n",
    "x = df['Sample Identifier 1']\n",
    "ax.plot(x,y, marker='s', markersize=4, lw=1, color='mediumblue')\n",
    "plt.xlim(1845,2020)\n",
    "ax.set_ylabel('${\\delta}^{15}$N', fontsize=15)\n",
    "\n",
    "\n",
    "\n",
    "ax1 = fig.add_subplot(312)\n",
    "y1 = df['d13C vs VPDB']\n",
    "x1 = df['Sample Identifier 1']\n",
    "plt.plot(x1,y1, marker='s', markersize=4, lw=1, color='r')\n",
    "ax1.set_ylabel('${\\delta}^{13}$C', fontsize=15)\n",
    "\n",
    "\n",
    "\n",
    "ax2 = fig.add_subplot(313)\n",
    "y2 = df['C:N Ratio']\n",
    "x2 = df['Sample Identifier 1']\n",
    "plt.plot(x2,y2, marker='s', markersize=4.5, lw=1, color='purple')\n",
    "ax2.set_ylabel('C:N Ratio', fontsize=14)\n",
    "ax2.set_xlabel('Estimated Calendar Year', fontsize=15)\n",
    "\n",
    "ax.set_title('Bulk Nitrogen and Carbon Values (‰) and C:N Ratios', fontsize=17)\n",
    "\n",
    "plt.setp(ax.get_xticklabels(), visible=False)\n",
    "plt.setp(ax1.get_xticklabels(), visible=False)\n",
    "\n",
    "fig.tight_layout()\n",
    "\n",
    "\n",
    "\n",
    "# R square\n",
    "slope, intercept, r_value, p_value, std_err = stats.linregress(x,y)\n",
    "slope, intercept, r_value1, p_value, std_err = stats.linregress(x1,y1)\n",
    "slope, intercept, r_value2, p_value, std_err = stats.linregress(x2,y2)\n",
    "\n",
    "print(\"r-squared (N):\", r_value**2)\n",
    "print(\"r-squared (C):\", r_value1**2)\n",
    "print(\"r-squared (C:N):\", r_value2**2)\n",
    "\n",
    "\n",
    "plt.savefig('fig_all.pdf')"
   ]
  },
  {
   "cell_type": "code",
   "execution_count": null,
   "metadata": {},
   "outputs": [],
   "source": []
  },
  {
   "cell_type": "code",
   "execution_count": null,
   "metadata": {},
   "outputs": [],
   "source": []
  },
  {
   "cell_type": "markdown",
   "metadata": {},
   "source": [
    "# Nitrogen"
   ]
  },
  {
   "cell_type": "code",
   "execution_count": null,
   "metadata": {},
   "outputs": [],
   "source": [
    "fig_N = plt.figure(figsize=(11,4))\n",
    "\n",
    "ax = fig_N.add_subplot(111)\n",
    "y = df['d15N vs Air']\n",
    "x = df['Sample Identifier 1']\n",
    "ax.plot(x,y, marker='s', markersize=4, lw=1, color='mediumblue')\n",
    "plt.hlines(11.458,1845,2020, colors='k', lw=0.5, linestyles='dashed')\n",
    "plt.xlim(1845,2020)\n",
    "ax.set_ylabel('${\\delta}^{15}$N', fontsize=15)\n",
    "ax.set_xlabel('Estimated Calendar Year', fontsize=15)\n",
    "ax.set_title('Age Model for Bulk Nitrogen Values (‰)', fontsize=17)\n",
    "ax.text(2008, 12.48, '$R^{2}$=0.7', fontsize=10)\n",
    "\n",
    "\n",
    "plt.savefig('fig_N.pdf');"
   ]
  },
  {
   "cell_type": "code",
   "execution_count": null,
   "metadata": {},
   "outputs": [],
   "source": []
  },
  {
   "cell_type": "markdown",
   "metadata": {},
   "source": [
    "# Carbon"
   ]
  },
  {
   "cell_type": "code",
   "execution_count": null,
   "metadata": {},
   "outputs": [],
   "source": [
    "fig_C = plt.figure(figsize=(11,4))\n",
    "\n",
    "ax = fig_C.add_subplot(111)\n",
    "y = df['d13C vs VPDB']\n",
    "x = df['Sample Identifier 1']\n",
    "ax.plot(x,y, marker='s', markersize=4, lw=1, color='r')\n",
    "plt.hlines(-15.30,1845,2020, colors='k', lw=0.5, linestyles='dashed')\n",
    "plt.xlim(1845,2020)\n",
    "ax.set_ylabel('${\\delta}^{13}$C', fontsize=15)\n",
    "ax.set_xlabel('Estimated Calendar Year', fontsize=15)\n",
    "ax.set_title('Age Model for Bulk Carbon Values (‰)', fontsize=17)\n",
    "ax.text(2006, -14.92, '$R^{2}$=0.37', fontsize=10)\n",
    "\n",
    "\n",
    "plt.savefig('fig_C.pdf');"
   ]
  },
  {
   "cell_type": "code",
   "execution_count": null,
   "metadata": {},
   "outputs": [],
   "source": []
  },
  {
   "cell_type": "code",
   "execution_count": null,
   "metadata": {},
   "outputs": [],
   "source": []
  },
  {
   "cell_type": "markdown",
   "metadata": {},
   "source": [
    "# C:N"
   ]
  },
  {
   "cell_type": "code",
   "execution_count": null,
   "metadata": {},
   "outputs": [],
   "source": [
    "fig_CN = plt.figure(figsize=(11,4))\n",
    "\n",
    "ax = fig_CN.add_subplot(111)\n",
    "y = df['C:N Ratio']\n",
    "x = df['Sample Identifier 1']\n",
    "ax.plot(x,y, marker='s', markersize=4, lw=1, color='mediumblue')\n",
    "plt.hlines(2.56,1845,2020, colors='k', lw=0.5, linestyles='dashed')\n",
    "plt.xlim(1845,2020)\n",
    "ax.set_ylabel('${\\delta}^{15}$N', fontsize=15)\n",
    "ax.set_xlabel('Estimated Calendar Year', fontsize=15)\n",
    "ax.set_title('Age Model for C:N Ratios', fontsize=17)\n",
    "plt.savefig('fig_CN.pdf');"
   ]
  },
  {
   "cell_type": "code",
   "execution_count": null,
   "metadata": {},
   "outputs": [],
   "source": []
  },
  {
   "cell_type": "code",
   "execution_count": null,
   "metadata": {},
   "outputs": [],
   "source": [
    "df.head()"
   ]
  },
  {
   "cell_type": "code",
   "execution_count": null,
   "metadata": {},
   "outputs": [],
   "source": [
    "fig_N = plt.figure(figsize=(10,9))\n",
    "\n",
    "ax = fig_N.add_subplot(211)\n",
    "y = df['d13C vs VPDB']\n",
    "x = df['Sample Identifier 1']\n",
    "ax.plot(x,y, marker='s', markersize=4, lw=1, color='mediumblue')\n",
    "plt.xlim(1845,2020)\n",
    "ax.set_ylabel('${\\delta}^{15}$N', fontsize=15)\n",
    "ax.set_xlabel('Estimated Calendar Year', fontsize=15)\n",
    "ax.set_title('Age Model for Bulk Nitrogen (‰)', fontsize=17)\n",
    "\n",
    "\n",
    "plt.savefig('fig_N.png')"
   ]
  },
  {
   "cell_type": "code",
   "execution_count": null,
   "metadata": {},
   "outputs": [],
   "source": [
    "fig_C = plt.figure(figsize=(10,9))\n",
    "\n",
    "ax = fig_C.add_subplot(211)\n",
    "y = df['d15N vs Air']\n",
    "x = df['Sample Identifier 1']\n",
    "ax.plot(x,y, marker='s', markersize=4, lw=1, color='mediumblue')\n",
    "plt.xlim(1845,2020)\n",
    "ax.set_ylabel('${\\delta}^{15}$N', fontsize=15)\n",
    "ax.set_xlabel('Estimated Calendar Year', fontsize=15)\n",
    "ax.set_title('Age Model for Bulk Carbon (‰)', fontsize=17)\n",
    "\n",
    "\n",
    "plt.savefig('fig_C.png')"
   ]
  },
  {
   "cell_type": "code",
   "execution_count": null,
   "metadata": {},
   "outputs": [],
   "source": []
  },
  {
   "cell_type": "code",
   "execution_count": null,
   "metadata": {},
   "outputs": [],
   "source": []
  },
  {
   "cell_type": "code",
   "execution_count": null,
   "metadata": {},
   "outputs": [],
   "source": []
  },
  {
   "cell_type": "code",
   "execution_count": null,
   "metadata": {},
   "outputs": [],
   "source": []
  },
  {
   "cell_type": "markdown",
   "metadata": {},
   "source": [
    "# Trophic level"
   ]
  },
  {
   "cell_type": "code",
   "execution_count": null,
   "metadata": {},
   "outputs": [],
   "source": [
    "fig_TL = plt.figure(figsize=(10,9))\n",
    "\n",
    "ax = fig_TL.add_subplot(111)\n",
    "x = df['d13C vs VPDB']\n",
    "y = df['d15N vs Air']\n",
    "plt.scatter(x,y, marker='s', s=30, color='k')\n",
    "ax.text(-18.5, 12, 'Bamboo Gorgonin', fontsize=20)\n",
    "\n",
    "\n",
    "# pom\n",
    "plt.scatter(-18, 3, s=75, marker='|', color='k')\n",
    "plt.scatter(-22, 3, s=75, marker='|', color='k')\n",
    "plt.hlines(3, -18, -22, colors='k', linestyles='solid')\n",
    "ax.text(-20.3, 2.5, 'POM', fontsize=20)\n",
    "\n",
    "# zooplankton\n",
    "plt.scatter(-18, 8, s=75, marker='|', color='k')\n",
    "plt.scatter(-23, 8, s=75, marker='|', color='k')\n",
    "plt.hlines(8, -18, -23, colors='k', linestyles='solid')\n",
    "ax.text(-21.2, 7.5, 'Zooplankton', fontsize=20)\n",
    "\n",
    "# tissue\n",
    "y1 = df1['d15N vs Air']\n",
    "x1 = df1['d13C vs VPDB']\n",
    "plt.scatter(x1,y1, marker='o', s=30, color='k')\n",
    "ax.text(-19.5, 9, 'Gold Tissue', fontsize=20)\n",
    "\n",
    "\n",
    "\n",
    "ax.set_xlabel('${\\delta}^{13}$C (VPDB)', fontsize=25)\n",
    "ax.set_ylabel('${\\delta}^{15}$N (Air)', fontsize=25)\n",
    "ax.tick_params(axis=\"x\", labelsize=18)\n",
    "ax.tick_params(axis=\"y\", labelsize=18)\n",
    "# ax.set_title('Age Model for Bulk Nitrogen (‰)', fontsize=17)\n",
    "\n",
    "plt.ylim(2,13)\n",
    "plt.xlim(-23,-14.5)\n",
    "plt.show();\n",
    "\n",
    "plt.savefig('fig_TL.png')"
   ]
  },
  {
   "cell_type": "code",
   "execution_count": null,
   "metadata": {},
   "outputs": [],
   "source": []
  },
  {
   "cell_type": "code",
   "execution_count": null,
   "metadata": {},
   "outputs": [],
   "source": []
  },
  {
   "cell_type": "code",
   "execution_count": null,
   "metadata": {},
   "outputs": [],
   "source": []
  },
  {
   "cell_type": "markdown",
   "metadata": {},
   "source": [
    "# Tissue"
   ]
  },
  {
   "cell_type": "code",
   "execution_count": null,
   "metadata": {},
   "outputs": [],
   "source": [
    "df1 = pd.read_csv('../alyssaschultz/tissue.csv')\n",
    "df1.head()"
   ]
  },
  {
   "cell_type": "code",
   "execution_count": null,
   "metadata": {},
   "outputs": [],
   "source": [
    "fig_tissue = plt.figure(figsize=(10,9))\n",
    "\n",
    "ax = fig_tissue.add_subplot(211)\n",
    "y = df1['d15N vs Air']\n",
    "x = df1['ID']\n",
    "ax.plot(x,y, marker='s', markersize=4, lw=1, color='mediumblue')\n",
    "\n",
    "\n",
    "ax1 = fig_tissue.add_subplot(212)\n",
    "y1 = df1['d13C vs VPDB']\n",
    "x1 = df1['ID']\n",
    "ax1.plot(x1,y1, marker='s', markersize=4, lw=1, color='mediumblue')\n",
    "\n",
    "\n",
    "fig_tissue.tight_layout()\n",
    "\n",
    "\n",
    "# plt.savefig('fig_C.png')"
   ]
  },
  {
   "cell_type": "code",
   "execution_count": null,
   "metadata": {},
   "outputs": [],
   "source": []
  },
  {
   "cell_type": "code",
   "execution_count": null,
   "metadata": {},
   "outputs": [],
   "source": []
  },
  {
   "cell_type": "code",
   "execution_count": null,
   "metadata": {},
   "outputs": [],
   "source": []
  },
  {
   "cell_type": "markdown",
   "metadata": {},
   "source": [
    "# Chlorophyll"
   ]
  },
  {
   "cell_type": "code",
   "execution_count": null,
   "metadata": {},
   "outputs": [],
   "source": [
    "ds = xr.open_dataset('https://oceandata.sci.gsfc.nasa.gov/opendap/VIIRS/L3SMI/2019/003/V2019003.L3m_DAY_SNPP_CHL_chl_ocx_4km.nc')\n",
    "ds"
   ]
  },
  {
   "cell_type": "code",
   "execution_count": null,
   "metadata": {},
   "outputs": [],
   "source": [
    "proj = cartopy.crs.Robinson()\n",
    "pc = cartopy.crs.PlateCarree()\n",
    "\n",
    "fig = plt.figure(figsize=(15,5))\n",
    "ax = fig.add_subplot(111, projection=proj)\n",
    "ax.add_feature(cartopy.feature.COASTLINE)\n",
    "\n",
    "ds['chl_ocx'].plot(ax=ax, transform=pc, cmap=cmo.thermal)\n",
    "\n",
    "# ax.set_title('2015 Maximum Temperature at 2m', fontsize=14);"
   ]
  },
  {
   "cell_type": "code",
   "execution_count": null,
   "metadata": {},
   "outputs": [],
   "source": [
    "conda install basemap"
   ]
  },
  {
   "cell_type": "code",
   "execution_count": null,
   "metadata": {},
   "outputs": [],
   "source": [
    "%matplotlib inline\n",
    "import numpy as np\n",
    "import matplotlib.pyplot as plt\n",
    "from mpl_toolkits.basemap import Basemap"
   ]
  },
  {
   "cell_type": "code",
   "execution_count": null,
   "metadata": {},
   "outputs": [],
   "source": [
    "plt.figure(figsize=(8, 8))\n",
    "m = Basemap(projection='ortho', resolution=None, lat_0=50, lon_0=-100)\n",
    "m.bluemarble(scale=0.5);"
   ]
  }
 ],
 "metadata": {
  "kernelspec": {
   "display_name": "Python 3",
   "language": "python",
   "name": "python3"
  },
  "language_info": {
   "codemirror_mode": {
    "name": "ipython",
    "version": 3
   },
   "file_extension": ".py",
   "mimetype": "text/x-python",
   "name": "python",
   "nbconvert_exporter": "python",
   "pygments_lexer": "ipython3",
   "version": "3.7.4"
  }
 },
 "nbformat": 4,
 "nbformat_minor": 2
}
