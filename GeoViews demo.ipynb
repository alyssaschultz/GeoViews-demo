{
 "cells": [
  {
   "cell_type": "code",
   "execution_count": null,
   "metadata": {},
   "outputs": [],
   "source": [
    "import geoviews as gv\n",
    "import geoviews.feature as gf\n",
    "from geoviews import opts\n",
    "\n",
    "import xarray as xr\n",
    "from cartopy import crs\n",
    "import cmocean.cm as cmo\n",
    "\n",
    "\n",
    "gv.extension('bokeh', 'matplotlib')"
   ]
  },
  {
   "cell_type": "code",
   "execution_count": null,
   "metadata": {
    "scrolled": false
   },
   "outputs": [],
   "source": [
    "(gf.ocean + gf.land + gf.ocean * gf.land * gf.coastline * gf.borders).opts(\n",
    "    'Feature', projection=crs.Geostationary(), global_extent=True, height=325).cols(3)"
   ]
  },
  {
   "cell_type": "code",
   "execution_count": null,
   "metadata": {
    "scrolled": false
   },
   "outputs": [],
   "source": [
    "ds = xr.open_dataset('../alyssaschultz/berkeley_earth_dataset.nc')\n",
    "ds"
   ]
  },
  {
   "cell_type": "code",
   "execution_count": null,
   "metadata": {
    "scrolled": false
   },
   "outputs": [],
   "source": [
    "ds = gv.Dataset(xr.open_dataset('../alyssaschultz/berkeley_earth_dataset.nc'))\n",
    "plot = ds.to(gv.Image, ['longitude', 'latitude'], 'temperature', dynamic=True)\n",
    "\n",
    "gv.output(plot.opts(cmap=cmo.balance, colorbar=True, fig_size=200, backend='matplotlib') * gf.coastline(),\n",
    "         backend='matplotlib')"
   ]
  }
 ],
 "metadata": {
  "kernelspec": {
   "display_name": "Python 3",
   "language": "python",
   "name": "python3"
  },
  "language_info": {
   "codemirror_mode": {
    "name": "ipython",
    "version": 3
   },
   "file_extension": ".py",
   "mimetype": "text/x-python",
   "name": "python",
   "nbconvert_exporter": "python",
   "pygments_lexer": "ipython3",
   "version": "3.7.4"
  }
 },
 "nbformat": 4,
 "nbformat_minor": 2
}
